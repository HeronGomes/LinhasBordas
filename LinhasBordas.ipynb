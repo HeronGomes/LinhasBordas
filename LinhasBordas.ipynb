{
 "cells": [
  {
   "cell_type": "code",
   "execution_count": null,
   "id": "regulated-waters",
   "metadata": {},
   "outputs": [],
   "source": [
    "import cv2 as cv\n",
    "import numpy as np"
   ]
  },
  {
   "cell_type": "code",
   "execution_count": null,
   "id": "indirect-catalog",
   "metadata": {},
   "outputs": [],
   "source": [
    "img = cv.imread('FlorestaE.jpg')\n",
    "img = cv.resize(img,(800,600))\n",
    "imgCinza = cv.cvtColor(img,cv.COLOR_BGR2GRAY)\n",
    "imgCinza = cv.cvtColor(imgCinza,cv.COLOR_GRAY2BGR)\n",
    "bordas = cv.Canny(imgCinza,100,80,5)\n",
    "bordas = cv.cvtColor(bordas,cv.COLOR_GRAY2BGR)\n",
    "imgResultado = img.copy()\n",
    "imgCima = cv.hconcat([img,imgCinza,bordas])\n",
    "imgAssinatura = np.zeros((50,2400,3),np.uint8)\n",
    "cv.putText(imgAssinatura,'Ensaio Sobre Linhas: Heron TF Gomes',(1850,25),cv.FONT_HERSHEY_SCRIPT_SIMPLEX ,1,(190,190,190),1,cv.LINE_AA )\n",
    "cv.putText(imgAssinatura,'20/01/2020',(2280,45),cv.FONT_HERSHEY_SCRIPT_SIMPLEX ,0.5,(190,190,190),1,cv.LINE_AA )\n",
    "imgSalvar = cv.vconcat((imgCima,imgAssinatura))\n",
    "cv.imshow('Salvar',imgSalvar)\n",
    "cv.imwrite('Vulcao.png',imgSalvar)\n",
    "cv.waitKey(0)\n",
    "cv.destroyAllWindows()"
   ]
  }
 ],
 "metadata": {
  "kernelspec": {
   "display_name": "Python 3",
   "language": "python",
   "name": "python3"
  },
  "language_info": {
   "codemirror_mode": {
    "name": "ipython",
    "version": 3
   },
   "file_extension": ".py",
   "mimetype": "text/x-python",
   "name": "python",
   "nbconvert_exporter": "python",
   "pygments_lexer": "ipython3",
   "version": "3.9.1"
  }
 },
 "nbformat": 4,
 "nbformat_minor": 5
}
